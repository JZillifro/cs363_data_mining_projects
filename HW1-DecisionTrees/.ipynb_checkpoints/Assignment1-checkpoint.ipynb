{
 "cells": [
  {
   "cell_type": "markdown",
   "metadata": {},
   "source": [
    "#### This assignment may be worked individually or in pairs. Enter your name/names here:\n",
    "    "
   ]
  },
  {
   "cell_type": "code",
   "execution_count": 1,
   "metadata": {},
   "outputs": [
    {
     "ename": "SyntaxError",
     "evalue": "invalid syntax (<ipython-input-1-82b7c1838740>, line 2)",
     "output_type": "error",
     "traceback": [
      "\u001b[1;36m  File \u001b[1;32m\"<ipython-input-1-82b7c1838740>\"\u001b[1;36m, line \u001b[1;32m2\u001b[0m\n\u001b[1;33m    Jacob Zillifro\u001b[0m\n\u001b[1;37m                 ^\u001b[0m\n\u001b[1;31mSyntaxError\u001b[0m\u001b[1;31m:\u001b[0m invalid syntax\n"
     ]
    }
   ],
   "source": [
    "#names here\n",
    "Jacob Zillifro"
   ]
  },
  {
   "cell_type": "markdown",
   "metadata": {
    "collapsed": true
   },
   "source": [
    "# Assignment 1: Decision Trees\n",
    "\n",
    "In this assignment we'll implement the Decision Tree algorithm to classify patients as either having or not having diabetic retinopathy. For this task we'll be using the Diabetic Retinopathy data set, which contains features from the Messidor image set to predict whether an image contains signs of diabetic retinopathy or not. This dataset has `1151` instances and `20` attributes (some categorical, some continuous). You can find additional details about the dataset [here](http://archive.ics.uci.edu/ml/datasets/Diabetic+Retinopathy+Debrecen+Data+Set)."
   ]
  },
  {
   "cell_type": "markdown",
   "metadata": {},
   "source": [
    "Attribute Information:\n",
    "\n",
    "0) The binary result of quality assessment. 0 = bad quality 1 = sufficient quality.\n",
    "\n",
    "1) The binary result of pre-screening, where 1 indicates severe retinal abnormality and 0 its lack. \n",
    "\n",
    "2-7) The results of MA detection. Each feature value stand for the number of MAs found at the confidence levels alpha = 0.5, . . . , 1, respectively. \n",
    "\n",
    "8-15) contain the same information as 2-7) for exudates. However, as exudates are represented by a set of points rather than the number of pixels constructing the lesions, these features are normalized by dividing the \n",
    "number of lesions with the diameter of the ROI to compensate different image sizes. \n",
    "\n",
    "16) The euclidean distance of the center of the macula and the center of the optic disc to provide important information regarding the patient's condition. This feature is also normalized with the diameter of the ROI.\n",
    "\n",
    "17) The diameter of the optic disc. \n",
    "\n",
    "18) The binary result of the AM/FM-based classification.\n",
    "\n",
    "19) Class label. 1 = contains signs of Diabetic Retinopathy (Accumulative label for the Messidor classes 1, 2, 3), 0 = no signs of Diabetic Retinopathy.\n",
    "\n",
    "\n",
    "A few function prototypes are already given to you, please don't change those. You can add additional helper functions for your convenience. *Suggestion:* The dataset is substantially big, for the purpose of easy debugging work with a subset of the data and test your decision tree implementation on that."
   ]
  },
  {
   "cell_type": "markdown",
   "metadata": {},
   "source": [
    "#### Implementation: \n",
    "A few function prototypes are already given to you, please don't change those. You can add additional helper functions for your convenience. \n",
    "\n",
    "*Suggestion:* The dataset is substantially big, for the purpose of easy debugging, work with a subset of the data and test your decision tree implementation on that.\n",
    "\n",
    "#### Notes:\n",
    "Parts of this assignment will be **autograded** so a couple of caveats :-\n",
    "- Entropy is calculated using log with base 2, `math.log2(x)`.\n",
    "- For continuous features ensure that the threshold value lies exactly between 2 buckets. For example, if for feature 2 the best split occurs between 10 and 15 then the threshold value will be set as 12.5.\n",
    "- For binary features [0/1] the threshold value will be 0.5. All values < `thresh_val` go to the left child and all values >= `thresh_val` go to the right child."
   ]
  },
  {
   "cell_type": "code",
   "execution_count": 2,
   "metadata": {},
   "outputs": [],
   "source": [
    "# Standard Headers\n",
    "# You are welcome to add additional headers if you wish\n",
    "# EXCEPT for scikit-learn... You may NOT use scikit-learn for this assignment!\n",
    "import pandas as pd\n",
    "import numpy as np\n",
    "import matplotlib.pyplot as plt\n",
    "from math import log2\n",
    "from random import shuffle"
   ]
  },
  {
   "cell_type": "code",
   "execution_count": 3,
   "metadata": {},
   "outputs": [],
   "source": [
    "class DataPoint:\n",
    "    def __str__(self):\n",
    "        return \"< \" + str(self.label) + \": \" + str(self.features) + \" >\"\n",
    "    def __init__(self, label, features):\n",
    "        self.label = label # the classification label of this data point\n",
    "        self.features = features"
   ]
  },
  {
   "cell_type": "markdown",
   "metadata": {},
   "source": [
    "Q1. Read data from a CSV file. Put it into a list of `DataPoints`."
   ]
  },
  {
   "cell_type": "code",
   "execution_count": 4,
   "metadata": {},
   "outputs": [],
   "source": [
    "def get_data(filename):\n",
    "    data = []\n",
    "    f = open(filename, \"r\")\n",
    "    for l in f:\n",
    "        attr = l.split(\",\")\n",
    "        dp = DataPoint(int(attr[19]), [float(a) for a in attr[0:19]])\n",
    "        data.append(dp)\n",
    "    return data"
   ]
  },
  {
   "cell_type": "code",
   "execution_count": 5,
   "metadata": {},
   "outputs": [],
   "source": [
    "class TreeNode:\n",
    "    is_leaf = True          # boolean variable to check if the node is a leaf\n",
    "    feature_idx = None      # index that identifies the feature\n",
    "    thresh_val = None       # threshold value that splits the node\n",
    "    prediction = None       # prediction class (only valid for leaf nodes)\n",
    "    left_child = None       # left TreeNode (all values < thresh_val)\n",
    "    right_child = None      # right TreeNode (all values >= thresh_val)\n",
    "    \n",
    "    def printTree(self):    # for debugging purposes\n",
    "        if self.is_leaf:\n",
    "            print ('Leaf Node:      predicts ' + str(self.prediction))\n",
    "        else:\n",
    "            print ('Internal Node:  splits on feature ' \n",
    "                   + str(self.feature_idx) + ' with threshold ' + str(self.thresh_val))\n",
    "            self.left_child.printTree()\n",
    "            self.right_child.printTree()"
   ]
  },
  {
   "cell_type": "markdown",
   "metadata": {},
   "source": [
    "Q2. Implement the function `make_prediction` that takes the decision tree root and a `DataPoint` instance and returns the prediction label."
   ]
  },
  {
   "cell_type": "code",
   "execution_count": 6,
   "metadata": {},
   "outputs": [],
   "source": [
    "def make_prediction(tree_root, data_point):\n",
    "#     your code goes here\n",
    "    cur = tree_root\n",
    "    while not cur.is_leaf:\n",
    "        val = data_point.features[cur.feature_idx]\n",
    "        if val < cur.thresh_val:\n",
    "            cur = cur.left_child\n",
    "        else:\n",
    "            cur = cur.right_child\n",
    "    return cur.prediction"
   ]
  },
  {
   "cell_type": "markdown",
   "metadata": {},
   "source": [
    "Q3. Implement the function `split_dataset` given an input data set, a `feature_idx` and the `threshold` for the feature. `left_split` will have all values < `threshold` and `right_split` will have all values >= `threshold`."
   ]
  },
  {
   "cell_type": "code",
   "execution_count": 7,
   "metadata": {},
   "outputs": [],
   "source": [
    "def split_dataset(data, feature_idx, threshold):\n",
    "    left_split = []\n",
    "    right_split = []\n",
    "#     your code goes here\n",
    "    for dp in data:\n",
    "        val = dp.features[feature_idx]\n",
    "        if val < threshold:\n",
    "            left_split.append(dp)\n",
    "        else:\n",
    "            right_split.append(dp)\n",
    "    return (left_split, right_split)"
   ]
  },
  {
   "cell_type": "markdown",
   "metadata": {},
   "source": [
    "Q4. Implement the function `calc_entropy` to return the entropy of the input dataset."
   ]
  },
  {
   "cell_type": "code",
   "execution_count": 8,
   "metadata": {},
   "outputs": [],
   "source": [
    "def calc_entropy(data):\n",
    "    entropy = 0.0\n",
    "#     your code goes here\n",
    "    g = 0\n",
    "    l = 0\n",
    "    total = len(data)\n",
    "    if total == 0:\n",
    "        return entropy\n",
    "    for dp in data:\n",
    "        if dp.label:\n",
    "            g += 1\n",
    "        else:\n",
    "            l += 1\n",
    "    if g == 0 or l == 0:\n",
    "        return entropy\n",
    "    g_prob = (g/total)\n",
    "    l_prob = (l/total)\n",
    "    entropy = ( ((g_prob)*log2(g_prob)*-1) + ((l_prob)*log2(l_prob)*-1) )\n",
    "    return entropy"
   ]
  },
  {
   "cell_type": "markdown",
   "metadata": {},
   "source": [
    "Q5. Implement the function `calc_best_threshold` which returns the best information gain and the corresponding threshold value for one feature at `feature_idx`."
   ]
  },
  {
   "cell_type": "code",
   "execution_count": 9,
   "metadata": {},
   "outputs": [],
   "source": [
    "def calc_best_threshold(data, feature_idx):\n",
    "    best_info_gain = 0.0\n",
    "    best_thresh = None\n",
    "#     your code goes here\n",
    "    test_vals = set()\n",
    "    sdata = sorted(data, key=lambda dp: dp.features[feature_idx])\n",
    "    test_vals.add(sdata[0].features[feature_idx])\n",
    "    test_vals.add(sdata[-1].features[feature_idx])\n",
    "    i = 1\n",
    "    while i < len(sdata):\n",
    "        if sdata[i].label != sdata[i-1].label or sdata[i].features[feature_idx] != sdata[i-1].features[feature_idx]:\n",
    "            mid = (sdata[i].features[feature_idx] + sdata[i-1].features[feature_idx])/2\n",
    "            test_vals.add(mid)\n",
    "        i+=1\n",
    "    for t in test_vals:\n",
    "        split = split_dataset(data, feature_idx, t)\n",
    "        g = calc_entropy(data) - calc_entropy(split[0]) - calc_entropy(split[1])\n",
    "        if g >= best_info_gain:\n",
    "            best_info_gain = g\n",
    "            best_thresh = t\n",
    "    return (best_info_gain, best_thresh)"
   ]
  },
  {
   "cell_type": "markdown",
   "metadata": {},
   "source": [
    "Q6. Implement the function `identify_best_split` which returns the best feature to split on for an input dataset, and also returns the corresponding threshold value."
   ]
  },
  {
   "cell_type": "code",
   "execution_count": 10,
   "metadata": {},
   "outputs": [],
   "source": [
    "def identify_best_split(data):\n",
    "    if len(data) < 2:\n",
    "        return (None, None)\n",
    "    best_feature = None\n",
    "    best_thresh = None\n",
    "#     your code goes here\n",
    "    best_gain = 0.0\n",
    "    for i in range(len(data[0].features)):\n",
    "        b_t = calc_best_threshold(data, i)\n",
    "        g = b_t[0]\n",
    "        t = b_t[1]\n",
    "        if g > best_gain:\n",
    "            best_feature = i\n",
    "            best_thresh = t\n",
    "            best_gain = g\n",
    "    return (best_feature, best_thresh)"
   ]
  },
  {
   "cell_type": "markdown",
   "metadata": {},
   "source": [
    "Q7. Implement the function `createLeafNode` which returns a `TreeNode` with `is_leaf=True` and `prediction` set to whichever classification occurs most in the dataset at this node."
   ]
  },
  {
   "cell_type": "code",
   "execution_count": 11,
   "metadata": {},
   "outputs": [],
   "source": [
    "def createLeafNode(data):\n",
    "#     your code goes here\n",
    "    g = 0\n",
    "    l = 0\n",
    "    for dp in data:\n",
    "        if dp.label == 1:\n",
    "            g+=1\n",
    "        else:\n",
    "            l+=1\n",
    "            \n",
    "    result = TreeNode()\n",
    "    result.is_leaf = True\n",
    "    if g > l:\n",
    "        result.prediction = 1\n",
    "    else:\n",
    "        result.prediction = 0\n",
    "            \n",
    "            \n",
    "    return result"
   ]
  },
  {
   "cell_type": "markdown",
   "metadata": {},
   "source": [
    "Q8. Implement the `createDecisionTree` function. `max_levels` denotes the maximum height of the tree (for example if `max_levels = 1` then the decision tree will only contain the leaf node at the root. [Hint: this is where the recursion happens.]"
   ]
  },
  {
   "cell_type": "code",
   "execution_count": 12,
   "metadata": {},
   "outputs": [],
   "source": [
    "def createDecisionTree(data, max_levels):\n",
    "#     your code goes here\n",
    "    node = None\n",
    "    if max_levels > 1:\n",
    "        best_split = identify_best_split(data)\n",
    "        if best_split[0] is None:\n",
    "            node = createLeafNode(data)\n",
    "        else:\n",
    "            node = TreeNode()\n",
    "            node.is_leaf = False\n",
    "            node.feature_idx = best_split[0]\n",
    "            node.thresh_val = best_split[1]\n",
    "            data_split = split_dataset(data, best_split[0], best_split[1])\n",
    "            node.left_child = createDecisionTree(data_split[0], max_levels-1)\n",
    "            node.right_child = createDecisionTree(data_split[1], max_levels-1)\n",
    "    else:\n",
    "        node = createLeafNode(data)\n",
    "    return node"
   ]
  },
  {
   "cell_type": "markdown",
   "metadata": {},
   "source": [
    "Q9. Given a test set, the function `calcAccuracy` returns the accuracy of the classifier. You'll use the `makePrediction` function for this."
   ]
  },
  {
   "cell_type": "code",
   "execution_count": 13,
   "metadata": {},
   "outputs": [],
   "source": [
    "def calcAccuracy(tree_root, data):\n",
    "#     your code goes here\n",
    "    sum = 0\n",
    "    for dp in data:\n",
    "        p = make_prediction(tree_root, dp)\n",
    "        if p == dp.label:\n",
    "            sum += 1\n",
    "    return (sum/len(data))"
   ]
  },
  {
   "cell_type": "markdown",
   "metadata": {},
   "source": [
    "Q10. Keeping the `max_levels` parameter as 10, use 5-fold cross validation to measure the accuracy of the model. Print the recall and precision of the model. Also display the confusion matrix."
   ]
  },
  {
   "cell_type": "code",
   "execution_count": 14,
   "metadata": {
    "scrolled": true
   },
   "outputs": [
    {
     "name": "stdout",
     "output_type": "stream",
     "text": [
      "Training set size: 921\n",
      "Test set size    : 230\n",
      "Time taken: 16.87299370765686\n",
      "The accuracy on the test set 0 is  56.086956521739125\n",
      "Training set size: 921\n",
      "Test set size    : 230\n",
      "Time taken: 19.10603976249695\n",
      "The accuracy on the test set 1 is  53.04347826086957\n",
      "Training set size: 921\n",
      "Test set size    : 230\n",
      "Time taken: 16.58595848083496\n",
      "The accuracy on the test set 2 is  52.17391304347826\n",
      "Training set size: 921\n",
      "Test set size    : 230\n",
      "Time taken: 14.415998935699463\n",
      "The accuracy on the test set 3 is  54.78260869565217\n",
      "Training set size: 921\n",
      "Test set size    : 230\n",
      "Time taken: 11.723037958145142\n",
      "The accuracy on the test set 4 is  50.0\n",
      "The average accuracy on the test sets is  53.21739130434783\n"
     ]
    }
   ],
   "source": [
    "# edit the code here - this is just a sample to get you started\n",
    "import time\n",
    "\n",
    "d = get_data(\"messidor_features.txt\")\n",
    "l = len(d)\n",
    "t_l = l//5\n",
    "\n",
    "acc_sum = 0\n",
    "for i in range(5):\n",
    "    # partition data into train_set and test_set\n",
    "    train_set = d[:i*t_l] + d[i*t_l+t_l:]\n",
    "    test_set = d[i*t_l:i*t_l+t_l]\n",
    "\n",
    "    print ('Training set size:', len(train_set))\n",
    "    print ('Test set size    :', len(test_set))\n",
    "\n",
    "    # create the decision tree\n",
    "    start = time.time()\n",
    "    tree = createDecisionTree(train_set, 10)\n",
    "    end = time.time()\n",
    "    print ('Time taken:', end - start)\n",
    "\n",
    "    # calculate the accuracy of the tree\n",
    "    accuracy = calcAccuracy(tree, test_set)\n",
    "    acc_sum += accuracy\n",
    "    print ('The accuracy on the test set ' + str(i) + ' is ', str(accuracy * 100.0))\n",
    "#     tree.printTree()\n",
    "acc_avg = acc_sum/5\n",
    "print ('The average accuracy on the test sets is ', str(acc_avg * 100.0))"
   ]
  }
 ],
 "metadata": {
  "kernelspec": {
   "display_name": "Python 3",
   "language": "python",
   "name": "python3"
  },
  "language_info": {
   "codemirror_mode": {
    "name": "ipython",
    "version": 3
   },
   "file_extension": ".py",
   "mimetype": "text/x-python",
   "name": "python",
   "nbconvert_exporter": "python",
   "pygments_lexer": "ipython3",
   "version": "3.7.1"
  }
 },
 "nbformat": 4,
 "nbformat_minor": 2
}
