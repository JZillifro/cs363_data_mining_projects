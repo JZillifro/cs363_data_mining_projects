{
 "cells": [
  {
   "cell_type": "markdown",
   "metadata": {},
   "source": [
    "## This assignment may be worked individually or in pairs. \n",
    "## Enter your name/names here:\n",
    "    "
   ]
  },
  {
   "cell_type": "code",
   "execution_count": 1,
   "metadata": {},
   "outputs": [],
   "source": [
    "#names here\n",
    "# Jacob Zillifro\n",
    "\n",
    "#please give this program a while to run(it takes an hour on my laptop)\n",
    "#late days used: 2"
   ]
  },
  {
   "cell_type": "markdown",
   "metadata": {
    "collapsed": true
   },
   "source": [
    "# Assignment 2: Naive Bayes and KNN classifier\n",
    "\n",
    "In this assignment you'll implement the Naive Bayes and KNN classifier to classify patients as either having or not having diabetic retinopathy. For this task we'll be using the same Diabetic Retinopathy data set which was used in the previous assignment on decision trees. The implementation details are up to you but, generally it is a good idea to divide your code up into helper functions."
   ]
  },
  {
   "cell_type": "code",
   "execution_count": 2,
   "metadata": {},
   "outputs": [],
   "source": [
    "# Standard Headers\n",
    "# You are welcome to add additional headers if you wish\n",
    "# EXCEPT for scikit-learn... You may NOT use scikit-learn for this assignment!\n",
    "import pandas as pd\n",
    "import numpy as np\n",
    "import matplotlib.pyplot as plt\n",
    "from math import log, sqrt\n",
    "from random import shuffle"
   ]
  },
  {
   "cell_type": "code",
   "execution_count": 3,
   "metadata": {},
   "outputs": [],
   "source": [
    "class DataPoint:\n",
    "    def __str__(self):\n",
    "        return \"< \" + str(self.label) + \": \" + str(self.features) + \" >\"\n",
    "    def __init__(self, label, features):\n",
    "        self.label = label # the classification label of this data point\n",
    "        self.features = features"
   ]
  },
  {
   "cell_type": "markdown",
   "metadata": {},
   "source": [
    "Read the data from a CSV file. You may either put it into a list of `DataPoints` as you did on the previous assignment (class provided above), or you may choose to store it any any format you wish, like a Pandas dataframe, or any other format you'd like."
   ]
  },
  {
   "cell_type": "code",
   "execution_count": 4,
   "metadata": {},
   "outputs": [],
   "source": [
    "def get_data(filename):\n",
    "    data = []\n",
    "#     your code goes here\n",
    "    df = pd.read_csv(filename, header=None, names=[i for i in range(20)])\n",
    "    return df"
   ]
  },
  {
   "cell_type": "code",
   "execution_count": 5,
   "metadata": {},
   "outputs": [
    {
     "data": {
      "text/html": [
       "<div>\n",
       "<style scoped>\n",
       "    .dataframe tbody tr th:only-of-type {\n",
       "        vertical-align: middle;\n",
       "    }\n",
       "\n",
       "    .dataframe tbody tr th {\n",
       "        vertical-align: top;\n",
       "    }\n",
       "\n",
       "    .dataframe thead th {\n",
       "        text-align: right;\n",
       "    }\n",
       "</style>\n",
       "<table border=\"1\" class=\"dataframe\">\n",
       "  <thead>\n",
       "    <tr style=\"text-align: right;\">\n",
       "      <th></th>\n",
       "      <th>0</th>\n",
       "      <th>1</th>\n",
       "      <th>2</th>\n",
       "      <th>3</th>\n",
       "      <th>4</th>\n",
       "      <th>5</th>\n",
       "      <th>6</th>\n",
       "      <th>7</th>\n",
       "      <th>8</th>\n",
       "      <th>9</th>\n",
       "      <th>10</th>\n",
       "      <th>11</th>\n",
       "      <th>12</th>\n",
       "      <th>13</th>\n",
       "      <th>14</th>\n",
       "      <th>15</th>\n",
       "      <th>16</th>\n",
       "      <th>17</th>\n",
       "      <th>18</th>\n",
       "      <th>19</th>\n",
       "    </tr>\n",
       "  </thead>\n",
       "  <tbody>\n",
       "    <tr>\n",
       "      <th>0</th>\n",
       "      <td>1</td>\n",
       "      <td>1</td>\n",
       "      <td>22</td>\n",
       "      <td>22</td>\n",
       "      <td>22</td>\n",
       "      <td>19</td>\n",
       "      <td>18</td>\n",
       "      <td>14</td>\n",
       "      <td>49.895756</td>\n",
       "      <td>17.775994</td>\n",
       "      <td>5.270920</td>\n",
       "      <td>0.771761</td>\n",
       "      <td>0.018632</td>\n",
       "      <td>0.006864</td>\n",
       "      <td>0.003923</td>\n",
       "      <td>0.003923</td>\n",
       "      <td>0.486903</td>\n",
       "      <td>0.100025</td>\n",
       "      <td>1</td>\n",
       "      <td>0</td>\n",
       "    </tr>\n",
       "    <tr>\n",
       "      <th>1</th>\n",
       "      <td>1</td>\n",
       "      <td>1</td>\n",
       "      <td>24</td>\n",
       "      <td>24</td>\n",
       "      <td>22</td>\n",
       "      <td>18</td>\n",
       "      <td>16</td>\n",
       "      <td>13</td>\n",
       "      <td>57.709936</td>\n",
       "      <td>23.799994</td>\n",
       "      <td>3.325423</td>\n",
       "      <td>0.234185</td>\n",
       "      <td>0.003903</td>\n",
       "      <td>0.003903</td>\n",
       "      <td>0.003903</td>\n",
       "      <td>0.003903</td>\n",
       "      <td>0.520908</td>\n",
       "      <td>0.144414</td>\n",
       "      <td>0</td>\n",
       "      <td>0</td>\n",
       "    </tr>\n",
       "    <tr>\n",
       "      <th>2</th>\n",
       "      <td>1</td>\n",
       "      <td>1</td>\n",
       "      <td>62</td>\n",
       "      <td>60</td>\n",
       "      <td>59</td>\n",
       "      <td>54</td>\n",
       "      <td>47</td>\n",
       "      <td>33</td>\n",
       "      <td>55.831441</td>\n",
       "      <td>27.993933</td>\n",
       "      <td>12.687485</td>\n",
       "      <td>4.852282</td>\n",
       "      <td>1.393889</td>\n",
       "      <td>0.373252</td>\n",
       "      <td>0.041817</td>\n",
       "      <td>0.007744</td>\n",
       "      <td>0.530904</td>\n",
       "      <td>0.128548</td>\n",
       "      <td>0</td>\n",
       "      <td>1</td>\n",
       "    </tr>\n",
       "    <tr>\n",
       "      <th>3</th>\n",
       "      <td>1</td>\n",
       "      <td>1</td>\n",
       "      <td>55</td>\n",
       "      <td>53</td>\n",
       "      <td>53</td>\n",
       "      <td>50</td>\n",
       "      <td>43</td>\n",
       "      <td>31</td>\n",
       "      <td>40.467228</td>\n",
       "      <td>18.445954</td>\n",
       "      <td>9.118901</td>\n",
       "      <td>3.079428</td>\n",
       "      <td>0.840261</td>\n",
       "      <td>0.272434</td>\n",
       "      <td>0.007653</td>\n",
       "      <td>0.001531</td>\n",
       "      <td>0.483284</td>\n",
       "      <td>0.114790</td>\n",
       "      <td>0</td>\n",
       "      <td>0</td>\n",
       "    </tr>\n",
       "    <tr>\n",
       "      <th>4</th>\n",
       "      <td>1</td>\n",
       "      <td>1</td>\n",
       "      <td>44</td>\n",
       "      <td>44</td>\n",
       "      <td>44</td>\n",
       "      <td>41</td>\n",
       "      <td>39</td>\n",
       "      <td>27</td>\n",
       "      <td>18.026254</td>\n",
       "      <td>8.570709</td>\n",
       "      <td>0.410381</td>\n",
       "      <td>0.000000</td>\n",
       "      <td>0.000000</td>\n",
       "      <td>0.000000</td>\n",
       "      <td>0.000000</td>\n",
       "      <td>0.000000</td>\n",
       "      <td>0.475935</td>\n",
       "      <td>0.123572</td>\n",
       "      <td>0</td>\n",
       "      <td>1</td>\n",
       "    </tr>\n",
       "  </tbody>\n",
       "</table>\n",
       "</div>"
      ],
      "text/plain": [
       "   0   1   2   3   4   5   6   7          8          9          10        11  \\\n",
       "0   1   1  22  22  22  19  18  14  49.895756  17.775994   5.270920  0.771761   \n",
       "1   1   1  24  24  22  18  16  13  57.709936  23.799994   3.325423  0.234185   \n",
       "2   1   1  62  60  59  54  47  33  55.831441  27.993933  12.687485  4.852282   \n",
       "3   1   1  55  53  53  50  43  31  40.467228  18.445954   9.118901  3.079428   \n",
       "4   1   1  44  44  44  41  39  27  18.026254   8.570709   0.410381  0.000000   \n",
       "\n",
       "         12        13        14        15        16        17  18  19  \n",
       "0  0.018632  0.006864  0.003923  0.003923  0.486903  0.100025   1   0  \n",
       "1  0.003903  0.003903  0.003903  0.003903  0.520908  0.144414   0   0  \n",
       "2  1.393889  0.373252  0.041817  0.007744  0.530904  0.128548   0   1  \n",
       "3  0.840261  0.272434  0.007653  0.001531  0.483284  0.114790   0   0  \n",
       "4  0.000000  0.000000  0.000000  0.000000  0.475935  0.123572   0   1  "
      ]
     },
     "execution_count": 5,
     "metadata": {},
     "output_type": "execute_result"
    }
   ],
   "source": [
    "df = get_data(\"messidor_features.txt\")\n",
    "df.head()"
   ]
  },
  {
   "cell_type": "markdown",
   "metadata": {},
   "source": [
    "## Part 1: Naive Bayes Classifier\n",
    "\n",
    "Naive Bayes (NB) classifier is a simple probabilistic classifier that is based on applying the Bayes' theorem and assumes a strong (naive) independence between features. The Diabetic Retinopath data set contains both categorical and continuous features. Dealing with categorical features has been already been discussed in detail in class. Continuous attributes, on the other hand, are more interesting to handle. Most commonly, this is done by assuming normal probability distribution over the feature values or by binning the attribute values in a fixed number of bins. In this assignment you'll be implementing the binning approach. For each continuous attribute, you'll construct 3 equal sized bins. For example, feature 5 ranges from `[1 - 120]` the 3 bins that you'll construct will be `[1 - 40]`, `[41 - 80]`, `[81 - 120]`."
   ]
  },
  {
   "cell_type": "markdown",
   "metadata": {},
   "source": [
    "Q1. Implement a Naive Bayes classifier. Measure the accuracy of your classifier using 5-fold cross validation and display the confusion matrix. Also print the precision and recall for class label 1 (patients that have been diagnosed with the disease)."
   ]
  },
  {
   "cell_type": "code",
   "execution_count": 6,
   "metadata": {},
   "outputs": [],
   "source": [
    "# your code goes here\n",
    "class NB:\n",
    "    def __init__(self, df):\n",
    "        vc = df[19].value_counts()\n",
    "        num_p = vc[1]\n",
    "        num_n = vc[0]\n",
    "        \n",
    "        self.num_p = num_p\n",
    "        self.num_n = num_n\n",
    "        \n",
    "        thresh = []\n",
    "        for i in range(19):\n",
    "            min_val = df[i].min()\n",
    "            max_val = df[i].max()\n",
    "            third = (max_val-min_val)/3\n",
    "            t1 = min_val + third\n",
    "            t2 = min_val + third*2\n",
    "            thresh.append([t1, t2])\n",
    "            \n",
    "        self.thresh = thresh\n",
    "            \n",
    "        p_counts = []\n",
    "        p_df = df[df[19] == 1]\n",
    "        for i in range(19):\n",
    "            low = p_df[p_df[i] <= thresh[i][0]].count()[0]\n",
    "            mid = p_df[(p_df[i] > thresh[i][0]) & (p_df[i] <= thresh[i][1])].count()[0]\n",
    "            hi = p_df[p_df[i] > thresh[i][1]].count()[0]\n",
    "            p_counts.append([low, mid, hi])\n",
    "            \n",
    "        self.p_counts = p_counts\n",
    "            \n",
    "        n_counts = []\n",
    "        n_df = df[df[19] == 0]\n",
    "        for i in range(19):\n",
    "            low = n_df[n_df[i] <= thresh[i][0]].count()[0]\n",
    "            mid = n_df[(n_df[i] > thresh[i][0]) & (n_df[i] <= thresh[i][1])].count()[0]\n",
    "            hi = n_df[n_df[i] > thresh[i][1]].count()[0]\n",
    "            n_counts.append([low, mid, hi])\n",
    "            \n",
    "        self.n_counts = n_counts\n",
    "        \n",
    "    def predict(self, row):\n",
    "        f_given_p = 1\n",
    "        f_given_n = 1\n",
    "        for i, feat in enumerate(row[:19]):\n",
    "            bin_index = 1\n",
    "            if feat > self.thresh[i][1]:\n",
    "                bin_index = 2\n",
    "            elif feat < self.thresh[i][0]:\n",
    "                bin_index = 0\n",
    "            p_count = self.p_counts[i][bin_index]\n",
    "            n_count = self.n_counts[i][bin_index]\n",
    "            fi_given_p = (p_count/self.num_p)\n",
    "            fi_given_n = (n_count/self.num_n)\n",
    "            f_given_p *= fi_given_p\n",
    "            f_given_n *= fi_given_n\n",
    "        total = self.num_p + self.num_n\n",
    "        prob_p = self.num_p/total\n",
    "        prob_n = self.num_n/total\n",
    "        \n",
    "        p_given_f = f_given_p * prob_p\n",
    "        n_given_f = f_given_n * prob_n\n",
    "        \n",
    "        if p_given_f >= n_given_f:\n",
    "            return 1\n",
    "        return 0"
   ]
  },
  {
   "cell_type": "code",
   "execution_count": 7,
   "metadata": {},
   "outputs": [
    {
     "data": {
      "text/plain": [
       "59.04347826086956"
      ]
     },
     "execution_count": 7,
     "metadata": {},
     "output_type": "execute_result"
    }
   ],
   "source": [
    "def k_fold_validate(k, model, df, hp=None):\n",
    "    fold_size = int((df.count()[0])/k)\n",
    "    acc_sum = 0\n",
    "    for i in range(k):\n",
    "        test = df[i*fold_size: i*fold_size+fold_size]\n",
    "        test.drop\n",
    "        train = pd.concat([df[:i*fold_size], df[i*fold_size+fold_size:]])\n",
    "        classifier = None\n",
    "        if hp is None:\n",
    "            classifier = model(train)\n",
    "        else:\n",
    "            classifier = model(train, hp)\n",
    "        correct = 0\n",
    "        total = 0\n",
    "        for i, row in test.iterrows():\n",
    "            truth = row[19]\n",
    "            row = row[:19]\n",
    "            prediction = classifier.predict(row)\n",
    "            if prediction == truth:\n",
    "                correct+=1\n",
    "            total+=1\n",
    "        acc = 100*(correct/total)\n",
    "        acc_sum += acc\n",
    "    avg_accuracy = acc_sum/k\n",
    "    return avg_accuracy\n",
    "            \n",
    "k_fold_validate(5,NB, df)"
   ]
  },
  {
   "cell_type": "markdown",
   "metadata": {},
   "source": [
    "\n",
    "## Part 2: K Nearest Neighbor (KNN) Classifier\n",
    "\n",
    "The KNN classifier consists of two stages:-\n",
    "- In the training stage, the classifier takes the training data and simply memorizes it\n",
    "- In the test stage, the classifier compares the test data with the training data and simply returns the maximum occuring label of the k nearest data points.\n",
    "\n",
    "The distance calculation method is central to the algorithm, typically Euclidean distance is used but other distance metrics like Manhattan distance can also be used. In this assignment you'll be implementing the classifier using the Euclidean distance metric. It is important to note that, Euclidean distance is very sensitive to the scaling of different attributes hence, before you can build your classifier you have to normalize the values of each feature in the data set."
   ]
  },
  {
   "cell_type": "markdown",
   "metadata": {},
   "source": [
    "Q2. Normalize the dataset so that each feature value lies between `[0-1]`."
   ]
  },
  {
   "cell_type": "code",
   "execution_count": 8,
   "metadata": {},
   "outputs": [
    {
     "data": {
      "text/html": [
       "<div>\n",
       "<style scoped>\n",
       "    .dataframe tbody tr th:only-of-type {\n",
       "        vertical-align: middle;\n",
       "    }\n",
       "\n",
       "    .dataframe tbody tr th {\n",
       "        vertical-align: top;\n",
       "    }\n",
       "\n",
       "    .dataframe thead th {\n",
       "        text-align: right;\n",
       "    }\n",
       "</style>\n",
       "<table border=\"1\" class=\"dataframe\">\n",
       "  <thead>\n",
       "    <tr style=\"text-align: right;\">\n",
       "      <th></th>\n",
       "      <th>0</th>\n",
       "      <th>1</th>\n",
       "      <th>2</th>\n",
       "      <th>3</th>\n",
       "      <th>4</th>\n",
       "      <th>5</th>\n",
       "      <th>6</th>\n",
       "      <th>7</th>\n",
       "      <th>8</th>\n",
       "      <th>9</th>\n",
       "      <th>10</th>\n",
       "      <th>11</th>\n",
       "      <th>12</th>\n",
       "      <th>13</th>\n",
       "      <th>14</th>\n",
       "      <th>15</th>\n",
       "      <th>16</th>\n",
       "      <th>17</th>\n",
       "      <th>18</th>\n",
       "      <th>19</th>\n",
       "    </tr>\n",
       "  </thead>\n",
       "  <tbody>\n",
       "    <tr>\n",
       "      <th>0</th>\n",
       "      <td>1.0</td>\n",
       "      <td>1.0</td>\n",
       "      <td>0.140000</td>\n",
       "      <td>0.160305</td>\n",
       "      <td>0.176471</td>\n",
       "      <td>0.173077</td>\n",
       "      <td>0.177083</td>\n",
       "      <td>0.147727</td>\n",
       "      <td>0.122764</td>\n",
       "      <td>0.106359</td>\n",
       "      <td>0.049693</td>\n",
       "      <td>0.012913</td>\n",
       "      <td>0.000362</td>\n",
       "      <td>0.000342</td>\n",
       "      <td>0.000661</td>\n",
       "      <td>0.001271</td>\n",
       "      <td>0.530801</td>\n",
       "      <td>0.261133</td>\n",
       "      <td>1.0</td>\n",
       "      <td>0.0</td>\n",
       "    </tr>\n",
       "    <tr>\n",
       "      <th>1</th>\n",
       "      <td>1.0</td>\n",
       "      <td>1.0</td>\n",
       "      <td>0.153333</td>\n",
       "      <td>0.175573</td>\n",
       "      <td>0.176471</td>\n",
       "      <td>0.163462</td>\n",
       "      <td>0.156250</td>\n",
       "      <td>0.136364</td>\n",
       "      <td>0.142126</td>\n",
       "      <td>0.142403</td>\n",
       "      <td>0.031351</td>\n",
       "      <td>0.003918</td>\n",
       "      <td>0.000076</td>\n",
       "      <td>0.000194</td>\n",
       "      <td>0.000657</td>\n",
       "      <td>0.001264</td>\n",
       "      <td>0.682302</td>\n",
       "      <td>0.536341</td>\n",
       "      <td>0.0</td>\n",
       "      <td>0.0</td>\n",
       "    </tr>\n",
       "    <tr>\n",
       "      <th>2</th>\n",
       "      <td>1.0</td>\n",
       "      <td>1.0</td>\n",
       "      <td>0.406667</td>\n",
       "      <td>0.450382</td>\n",
       "      <td>0.487395</td>\n",
       "      <td>0.509615</td>\n",
       "      <td>0.479167</td>\n",
       "      <td>0.363636</td>\n",
       "      <td>0.137472</td>\n",
       "      <td>0.167497</td>\n",
       "      <td>0.119614</td>\n",
       "      <td>0.081188</td>\n",
       "      <td>0.027106</td>\n",
       "      <td>0.018571</td>\n",
       "      <td>0.007043</td>\n",
       "      <td>0.002509</td>\n",
       "      <td>0.726836</td>\n",
       "      <td>0.437973</td>\n",
       "      <td>0.0</td>\n",
       "      <td>1.0</td>\n",
       "    </tr>\n",
       "    <tr>\n",
       "      <th>3</th>\n",
       "      <td>1.0</td>\n",
       "      <td>1.0</td>\n",
       "      <td>0.360000</td>\n",
       "      <td>0.396947</td>\n",
       "      <td>0.436975</td>\n",
       "      <td>0.471154</td>\n",
       "      <td>0.437500</td>\n",
       "      <td>0.340909</td>\n",
       "      <td>0.099403</td>\n",
       "      <td>0.110368</td>\n",
       "      <td>0.085971</td>\n",
       "      <td>0.051525</td>\n",
       "      <td>0.016340</td>\n",
       "      <td>0.013555</td>\n",
       "      <td>0.001289</td>\n",
       "      <td>0.000496</td>\n",
       "      <td>0.514678</td>\n",
       "      <td>0.352675</td>\n",
       "      <td>0.0</td>\n",
       "      <td>0.0</td>\n",
       "    </tr>\n",
       "    <tr>\n",
       "      <th>4</th>\n",
       "      <td>1.0</td>\n",
       "      <td>1.0</td>\n",
       "      <td>0.286667</td>\n",
       "      <td>0.328244</td>\n",
       "      <td>0.361345</td>\n",
       "      <td>0.384615</td>\n",
       "      <td>0.395833</td>\n",
       "      <td>0.295455</td>\n",
       "      <td>0.043799</td>\n",
       "      <td>0.051281</td>\n",
       "      <td>0.003869</td>\n",
       "      <td>0.000000</td>\n",
       "      <td>0.000000</td>\n",
       "      <td>0.000000</td>\n",
       "      <td>0.000000</td>\n",
       "      <td>0.000000</td>\n",
       "      <td>0.481936</td>\n",
       "      <td>0.407122</td>\n",
       "      <td>0.0</td>\n",
       "      <td>1.0</td>\n",
       "    </tr>\n",
       "  </tbody>\n",
       "</table>\n",
       "</div>"
      ],
      "text/plain": [
       "    0    1         2         3         4         5         6         7   \\\n",
       "0  1.0  1.0  0.140000  0.160305  0.176471  0.173077  0.177083  0.147727   \n",
       "1  1.0  1.0  0.153333  0.175573  0.176471  0.163462  0.156250  0.136364   \n",
       "2  1.0  1.0  0.406667  0.450382  0.487395  0.509615  0.479167  0.363636   \n",
       "3  1.0  1.0  0.360000  0.396947  0.436975  0.471154  0.437500  0.340909   \n",
       "4  1.0  1.0  0.286667  0.328244  0.361345  0.384615  0.395833  0.295455   \n",
       "\n",
       "         8         9         10        11        12        13        14  \\\n",
       "0  0.122764  0.106359  0.049693  0.012913  0.000362  0.000342  0.000661   \n",
       "1  0.142126  0.142403  0.031351  0.003918  0.000076  0.000194  0.000657   \n",
       "2  0.137472  0.167497  0.119614  0.081188  0.027106  0.018571  0.007043   \n",
       "3  0.099403  0.110368  0.085971  0.051525  0.016340  0.013555  0.001289   \n",
       "4  0.043799  0.051281  0.003869  0.000000  0.000000  0.000000  0.000000   \n",
       "\n",
       "         15        16        17   18   19  \n",
       "0  0.001271  0.530801  0.261133  1.0  0.0  \n",
       "1  0.001264  0.682302  0.536341  0.0  0.0  \n",
       "2  0.002509  0.726836  0.437973  0.0  1.0  \n",
       "3  0.000496  0.514678  0.352675  0.0  0.0  \n",
       "4  0.000000  0.481936  0.407122  0.0  1.0  "
      ]
     },
     "execution_count": 8,
     "metadata": {},
     "output_type": "execute_result"
    }
   ],
   "source": [
    "# your code goes here\n",
    "dfn = ((df-df.min())/(df.max()-df.min()))\n",
    "dfn.head()"
   ]
  },
  {
   "cell_type": "markdown",
   "metadata": {},
   "source": [
    "Q3. Build your KNN classifier. "
   ]
  },
  {
   "cell_type": "code",
   "execution_count": 9,
   "metadata": {},
   "outputs": [],
   "source": [
    "# your code goes here\n",
    "class KNN:\n",
    "    def __init__(self, df, k):\n",
    "        self.data = df\n",
    "        self.k = k\n",
    "        \n",
    "    def predict(self, row):\n",
    "        dist_data = self.data.apply(lambda row2: self.euclidean_distance(row, row2), axis=1)\n",
    "        label_sum = 0\n",
    "        for i in range(self.k):\n",
    "            row_label = dist_data.idxmin()\n",
    "            label_sum += self.data.loc[row_label][19]\n",
    "            dist_data.drop(row_label, inplace=True)\n",
    "        if label_sum > self.k/2:\n",
    "            return 1\n",
    "        return 0\n",
    "        \n",
    "    def euclidean_distance(self, row1, row2):\n",
    "        s = 0\n",
    "        for i in range(len(row1)):\n",
    "            a = row1[i]-row2[i]\n",
    "            s += a*a\n",
    "        return sqrt(s)"
   ]
  },
  {
   "cell_type": "markdown",
   "metadata": {},
   "source": [
    "Q4. Find the best value of k using 5-fold cross validation. In each fold of CV, divide your data into a training set and a validation set. Try k ranging from 1 to 10 and plot the accuracies using 5-fold CV. Use this plot to identify the best value of k (provide reasoning)."
   ]
  },
  {
   "cell_type": "code",
   "execution_count": 10,
   "metadata": {},
   "outputs": [
    {
     "data": {
      "image/png": "[encoded data removed]",
      "text/plain": [
       "<Figure size 432x288 with 1 Axes>"
      ]
     },
     "metadata": {
      "needs_background": "light"
     },
     "output_type": "display_data"
    },
    {
     "name": "stdout",
     "output_type": "stream",
     "text": [
      "The best k value is: 9\n"
     ]
    },
    {
     "data": {
      "text/plain": [
       "9"
      ]
     },
     "execution_count": 10,
     "metadata": {},
     "output_type": "execute_result"
    }
   ],
   "source": [
    "# your code goes here\n",
    "def find_best_k(data):\n",
    "    k_list = []\n",
    "    acc_list = []\n",
    "    max_acc = 0\n",
    "    max_k = 1\n",
    "    for k in range(1,10,2):\n",
    "        acc = k_fold_validate(5,KNN, data, k)\n",
    "        if acc > max_acc:\n",
    "            max_acc = acc\n",
    "            max_k = k\n",
    "        k_list.append(k)\n",
    "        acc_list.append(acc)\n",
    "    plt.plot(k_list, acc_list)\n",
    "    plt.ylabel('Average Accuracy')\n",
    "    plt.xlabel('K Value')\n",
    "    plt.show()\n",
    "    print(\"The best k value is: \" + str(max_k))\n",
    "    return max_k\n",
    "find_best_k(dfn)"
   ]
  },
  {
   "cell_type": "markdown",
   "metadata": {},
   "source": [
    "Q5. Now measure the accuracy of your classifier using 5-fold cross validation. In each fold of this CV, divide your data into a training set and a test set. The training set should get sent through your code for Q4, resulting in a value of k to use. Using that k, calculate an accuracy on the test set. You will average the accuracy over all 5 folds to obtain the final accuracy measurement. Print the accuracy as well as the precision and recall for class label 1 (patients that have been diagnosed with the disease)."
   ]
  },
  {
   "cell_type": "code",
   "execution_count": 11,
   "metadata": {},
   "outputs": [
    {
     "data": {
      "image/png": "[encoded data removed]",
      "text/plain": [
       "<Figure size 432x288 with 1 Axes>"
      ]
     },
     "metadata": {
      "needs_background": "light"
     },
     "output_type": "display_data"
    },
    {
     "name": "stdout",
     "output_type": "stream",
     "text": [
      "The best k value is: 7\n"
     ]
    },
    {
     "data": {
      "image/png": "[encoded data removed]",
      "text/plain": [
       "<Figure size 432x288 with 1 Axes>"
      ]
     },
     "metadata": {
      "needs_background": "light"
     },
     "output_type": "display_data"
    },
    {
     "name": "stdout",
     "output_type": "stream",
     "text": [
      "The best k value is: 9\n"
     ]
    },
    {
     "data": {
      "image/png": "[encoded data removed]",
      "text/plain": [
       "<Figure size 432x288 with 1 Axes>"
      ]
     },
     "metadata": {
      "needs_background": "light"
     },
     "output_type": "display_data"
    },
    {
     "name": "stdout",
     "output_type": "stream",
     "text": [
      "The best k value is: 9\n"
     ]
    },
    {
     "data": {
      "image/png": "[encoded data removed]",
      "text/plain": [
       "<Figure size 432x288 with 1 Axes>"
      ]
     },
     "metadata": {
      "needs_background": "light"
     },
     "output_type": "display_data"
    },
    {
     "name": "stdout",
     "output_type": "stream",
     "text": [
      "The best k value is: 7\n"
     ]
    },
    {
     "data": {
      "image/png": "[encoded data removed]",
      "text/plain": [
       "<Figure size 432x288 with 1 Axes>"
      ]
     },
     "metadata": {
      "needs_background": "light"
     },
     "output_type": "display_data"
    },
    {
     "name": "stdout",
     "output_type": "stream",
     "text": [
      "The best k value is: 9\n",
      "average accuracy: 64.78260869565217\n"
     ]
    }
   ],
   "source": [
    "# your code goes here\n",
    "def cross_validate_knn(k):\n",
    "    fold_size = int((df.count()[0])/k)\n",
    "    acc_sum = 0\n",
    "    for i in range(k):\n",
    "        test = df[i*fold_size: i*fold_size+fold_size]\n",
    "        test.drop\n",
    "        train = pd.concat([df[:i*fold_size], df[i*fold_size+fold_size:]])\n",
    "        best_k = find_best_k(train)\n",
    "        knn = KNN(train, best_k)\n",
    "        correct = 0\n",
    "        total = 0\n",
    "        for i, row in test.iterrows():\n",
    "            truth = row[19]\n",
    "            row = row[:19]\n",
    "            prediction = knn.predict(row)\n",
    "            if prediction == truth:\n",
    "                correct+=1\n",
    "            total+=1\n",
    "        acc = 100*(correct/total)\n",
    "        acc_sum += acc\n",
    "    avg_accuracy = acc_sum/k\n",
    "    print(\"average accuracy: \" + str(avg_accuracy))\n",
    "cross_validate_knn(5)"
   ]
  },
  {
   "cell_type": "markdown",
   "metadata": {},
   "source": [
    "### To explore further:\n",
    "\n",
    "1) Use scikit-learn's NearestNeighbor classifier to classify the data. Compare those results to your own. The documentation can be found [here](http://scikit-learn.org/stable/modules/neighbors.html), specifically section 1.6.2 and the link to the [KNeighborsClassifier](http://scikit-learn.org/stable/modules/generated/sklearn.neighbors.KNeighborsClassifier.html#sklearn.neighbors.KNeighborsClassifier).\n",
    "\n",
    "2) Use scikit-learn's Naive Bayes classifier to classify the data. Compare those results to your own. The documentation is found [here](http://scikit-learn.org/stable/modules/naive_bayes.html), specifically section 1.9.2 and the link to [MultinomialNB](http://scikit-learn.org/stable/modules/generated/sklearn.naive_bayes.MultinomialNB.html#sklearn.naive_bayes.MultinomialNB). You will want to bin the continuous attributes, as you did above, and consider each bin to be a categorical value for that attribute. For example, feature 5 ranges from [1 - 120], and the 3 bins that you'll construct will be [1 - 40], [41 - 80], [81 - 120]. You can think of this as saying that feature 5 can take 1 of 3 values: low, med, or high. With binning, you have transformed all of your features into categorical features and the MultinomialNB version of Naive Bayes is what should be used for all categorical data. "
   ]
  }
 ],
 "metadata": {
  "kernelspec": {
   "display_name": "Python 3",
   "language": "python",
   "name": "python3"
  },
  "language_info": {
   "codemirror_mode": {
    "name": "ipython",
    "version": 3
   },
   "file_extension": ".py",
   "mimetype": "text/x-python",
   "name": "python",
   "nbconvert_exporter": "python",
   "pygments_lexer": "ipython3",
   "version": "3.7.1"
  }
 },
 "nbformat": 4,
 "nbformat_minor": 2
}
